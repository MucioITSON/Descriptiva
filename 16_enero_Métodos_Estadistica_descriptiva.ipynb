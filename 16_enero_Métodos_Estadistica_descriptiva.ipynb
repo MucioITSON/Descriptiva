{
  "nbformat": 4,
  "nbformat_minor": 0,
  "metadata": {
    "colab": {
      "provenance": [],
      "include_colab_link": true
    },
    "kernelspec": {
      "name": "ir",
      "display_name": "R"
    },
    "language_info": {
      "name": "R"
    }
  },
  "cells": [
    {
      "cell_type": "markdown",
      "metadata": {
        "id": "view-in-github",
        "colab_type": "text"
      },
      "source": [
        "<a href=\"https://colab.research.google.com/github/MucioITSON/Descriptiva/blob/main/16_enero_M%C3%A9todos_Estadistica_descriptiva.ipynb\" target=\"_parent\"><img src=\"https://colab.research.google.com/assets/colab-badge.svg\" alt=\"Open In Colab\"/></a>"
      ]
    },
    {
      "cell_type": "markdown",
      "metadata": {
        "id": "EN98wW_o83wj"
      },
      "source": [
        "#Mucio Osorio Sánchez\n",
        "# Cub. 22 CAD\n",
        "#6444109000 ext 1722\n",
        "#mucio.osorio@itson.edu.mx\n",
        "###mucio.osorio@potros.itson.edu.mx"
      ]
    },
    {
      "cell_type": "markdown",
      "source": [
        "# Colab para R\n",
        "Para abrir un documento de google colab con R debe usar solamente este link:\n",
        "\n",
        "**http://colab.to/r**"
      ],
      "metadata": {
        "id": "k0PGJF7xzHn5"
      }
    },
    {
      "cell_type": "markdown",
      "metadata": {
        "id": "rHqrwOSSBU3L"
      },
      "source": [
        "# ESTADISTICA DESCRIPTIVA.\n",
        "\n",
        "Las herramientas de la Estadística descriptiva se encargan de organizar, presentar y describir un conjunto de datos para tomar decisiones. Principalmente son tablas, gráficas y ciertas cantidades numéricas.\n",
        "\n",
        "Recordar en lo sucesivo que habrá ocasiones en las que los datos a describir forman parte de una muestra y que en otras ocasiones pueden ser la población de interés y que por lo tanto el nombre y la forma en que se definen las cantidades numéricas varía.\n",
        "\n",
        "|Parámetro|Estimador||\n",
        "|--- |--- |---|\n",
        "|$\\mu$|$\\overline{x}$|Promedio|\n",
        "|$P$|$\\hat{p}$|Proporción|\n",
        "|$\\sigma^2$ | $s^2$|Varianza|\n",
        "|$P_j$|$p_j$|Percentil|\n",
        "|$\\tau$|$t$|Total|\n",
        "\n",
        "##LAS SEIS CARACTERÍSTICAS DE LOS DATOS\n",
        "\n",
        "En estas notas se estudian las herramientas estadísticas esenciales en el análisis descriptivo de los datos, considerando las seis siguientes caractarísticas, y que además permitirán una buena selección de las herramientas de la inferencia estadística. \n",
        "\n",
        "1. Localización o ubicación\n",
        "2. Dispersión, variabilidad o heterogeneidad\n",
        "3. Distribución de frecuencias o forma de la distribución\n",
        "4. Valores extremos o atípicos (outliers) \n",
        "5. Agrupamientos (clustering)\n",
        "6. Correlación"
      ]
    },
    {
      "cell_type": "markdown",
      "metadata": {
        "id": "pXBu12kxCGic"
      },
      "source": [
        "## El conjunto de datos de The Old Faithful \n",
        "\n",
        "<center>\n",
        "\n",
        "![The Old Faithful](https://media-cdn.tripadvisor.com/media/photo-s/0b/e2/e0/8b/old-faithful-yellowstone.jpg)\n",
        "\n",
        "</center>\n",
        "\n",
        "El conjunto de datos del geyser “Old Faithful” consta de 272 medidas de la duración de la exhalación (min) del geyser y del tiempo entre exhalaciones (min). Tiene características interesantes que servirán para ejemplificar las herramientas de la Estadística Descriptiva.\n",
        "\n",
        "\n",
        "\n",
        "\n",
        "\n"
      ]
    },
    {
      "cell_type": "code",
      "metadata": {
        "id": "mie8XwlPODON",
        "colab": {
          "base_uri": "https://localhost:8080/",
          "height": 1000
        },
        "outputId": "c4798792-7094-45d4-a462-948a1c029972"
      },
      "source": [
        "# El conjunto de datos forma parte de el sistema base de R\n",
        "faithful\n",
        "# Solicite la ayuda sobre faithful\n",
        "# help(faithful)\n",
        "# Ver los primeros 6 elementos\n",
        "#head(faithful,3)\n",
        "# los últimos\n",
        "#tail(faithful,5)\n",
        "# la dimensión del dataframe\n",
        "\n"
      ],
      "execution_count": null,
      "outputs": [
        {
          "output_type": "display_data",
          "data": {
            "text/html": [
              "<table class=\"dataframe\">\n",
              "<caption>A data.frame: 272 × 2</caption>\n",
              "<thead>\n",
              "\t<tr><th></th><th scope=col>eruptions</th><th scope=col>waiting</th></tr>\n",
              "\t<tr><th></th><th scope=col>&lt;dbl&gt;</th><th scope=col>&lt;dbl&gt;</th></tr>\n",
              "</thead>\n",
              "<tbody>\n",
              "\t<tr><th scope=row>1</th><td>3.600</td><td>79</td></tr>\n",
              "\t<tr><th scope=row>2</th><td>1.800</td><td>54</td></tr>\n",
              "\t<tr><th scope=row>3</th><td>3.333</td><td>74</td></tr>\n",
              "\t<tr><th scope=row>4</th><td>2.283</td><td>62</td></tr>\n",
              "\t<tr><th scope=row>5</th><td>4.533</td><td>85</td></tr>\n",
              "\t<tr><th scope=row>6</th><td>2.883</td><td>55</td></tr>\n",
              "\t<tr><th scope=row>7</th><td>4.700</td><td>88</td></tr>\n",
              "\t<tr><th scope=row>8</th><td>3.600</td><td>85</td></tr>\n",
              "\t<tr><th scope=row>9</th><td>1.950</td><td>51</td></tr>\n",
              "\t<tr><th scope=row>10</th><td>4.350</td><td>85</td></tr>\n",
              "\t<tr><th scope=row>11</th><td>1.833</td><td>54</td></tr>\n",
              "\t<tr><th scope=row>12</th><td>3.917</td><td>84</td></tr>\n",
              "\t<tr><th scope=row>13</th><td>4.200</td><td>78</td></tr>\n",
              "\t<tr><th scope=row>14</th><td>1.750</td><td>47</td></tr>\n",
              "\t<tr><th scope=row>15</th><td>4.700</td><td>83</td></tr>\n",
              "\t<tr><th scope=row>16</th><td>2.167</td><td>52</td></tr>\n",
              "\t<tr><th scope=row>17</th><td>1.750</td><td>62</td></tr>\n",
              "\t<tr><th scope=row>18</th><td>4.800</td><td>84</td></tr>\n",
              "\t<tr><th scope=row>19</th><td>1.600</td><td>52</td></tr>\n",
              "\t<tr><th scope=row>20</th><td>4.250</td><td>79</td></tr>\n",
              "\t<tr><th scope=row>21</th><td>1.800</td><td>51</td></tr>\n",
              "\t<tr><th scope=row>22</th><td>1.750</td><td>47</td></tr>\n",
              "\t<tr><th scope=row>23</th><td>3.450</td><td>78</td></tr>\n",
              "\t<tr><th scope=row>24</th><td>3.067</td><td>69</td></tr>\n",
              "\t<tr><th scope=row>25</th><td>4.533</td><td>74</td></tr>\n",
              "\t<tr><th scope=row>26</th><td>3.600</td><td>83</td></tr>\n",
              "\t<tr><th scope=row>27</th><td>1.967</td><td>55</td></tr>\n",
              "\t<tr><th scope=row>28</th><td>4.083</td><td>76</td></tr>\n",
              "\t<tr><th scope=row>29</th><td>3.850</td><td>78</td></tr>\n",
              "\t<tr><th scope=row>30</th><td>4.433</td><td>79</td></tr>\n",
              "\t<tr><th scope=row>⋮</th><td>⋮</td><td>⋮</td></tr>\n",
              "\t<tr><th scope=row>243</th><td>4.933</td><td>86</td></tr>\n",
              "\t<tr><th scope=row>244</th><td>2.900</td><td>63</td></tr>\n",
              "\t<tr><th scope=row>245</th><td>4.583</td><td>85</td></tr>\n",
              "\t<tr><th scope=row>246</th><td>3.833</td><td>82</td></tr>\n",
              "\t<tr><th scope=row>247</th><td>2.083</td><td>57</td></tr>\n",
              "\t<tr><th scope=row>248</th><td>4.367</td><td>82</td></tr>\n",
              "\t<tr><th scope=row>249</th><td>2.133</td><td>67</td></tr>\n",
              "\t<tr><th scope=row>250</th><td>4.350</td><td>74</td></tr>\n",
              "\t<tr><th scope=row>251</th><td>2.200</td><td>54</td></tr>\n",
              "\t<tr><th scope=row>252</th><td>4.450</td><td>83</td></tr>\n",
              "\t<tr><th scope=row>253</th><td>3.567</td><td>73</td></tr>\n",
              "\t<tr><th scope=row>254</th><td>4.500</td><td>73</td></tr>\n",
              "\t<tr><th scope=row>255</th><td>4.150</td><td>88</td></tr>\n",
              "\t<tr><th scope=row>256</th><td>3.817</td><td>80</td></tr>\n",
              "\t<tr><th scope=row>257</th><td>3.917</td><td>71</td></tr>\n",
              "\t<tr><th scope=row>258</th><td>4.450</td><td>83</td></tr>\n",
              "\t<tr><th scope=row>259</th><td>2.000</td><td>56</td></tr>\n",
              "\t<tr><th scope=row>260</th><td>4.283</td><td>79</td></tr>\n",
              "\t<tr><th scope=row>261</th><td>4.767</td><td>78</td></tr>\n",
              "\t<tr><th scope=row>262</th><td>4.533</td><td>84</td></tr>\n",
              "\t<tr><th scope=row>263</th><td>1.850</td><td>58</td></tr>\n",
              "\t<tr><th scope=row>264</th><td>4.250</td><td>83</td></tr>\n",
              "\t<tr><th scope=row>265</th><td>1.983</td><td>43</td></tr>\n",
              "\t<tr><th scope=row>266</th><td>2.250</td><td>60</td></tr>\n",
              "\t<tr><th scope=row>267</th><td>4.750</td><td>75</td></tr>\n",
              "\t<tr><th scope=row>268</th><td>4.117</td><td>81</td></tr>\n",
              "\t<tr><th scope=row>269</th><td>2.150</td><td>46</td></tr>\n",
              "\t<tr><th scope=row>270</th><td>4.417</td><td>90</td></tr>\n",
              "\t<tr><th scope=row>271</th><td>1.817</td><td>46</td></tr>\n",
              "\t<tr><th scope=row>272</th><td>4.467</td><td>74</td></tr>\n",
              "</tbody>\n",
              "</table>\n"
            ],
            "text/markdown": "\nA data.frame: 272 × 2\n\n| <!--/--> | eruptions &lt;dbl&gt; | waiting &lt;dbl&gt; |\n|---|---|---|\n| 1 | 3.600 | 79 |\n| 2 | 1.800 | 54 |\n| 3 | 3.333 | 74 |\n| 4 | 2.283 | 62 |\n| 5 | 4.533 | 85 |\n| 6 | 2.883 | 55 |\n| 7 | 4.700 | 88 |\n| 8 | 3.600 | 85 |\n| 9 | 1.950 | 51 |\n| 10 | 4.350 | 85 |\n| 11 | 1.833 | 54 |\n| 12 | 3.917 | 84 |\n| 13 | 4.200 | 78 |\n| 14 | 1.750 | 47 |\n| 15 | 4.700 | 83 |\n| 16 | 2.167 | 52 |\n| 17 | 1.750 | 62 |\n| 18 | 4.800 | 84 |\n| 19 | 1.600 | 52 |\n| 20 | 4.250 | 79 |\n| 21 | 1.800 | 51 |\n| 22 | 1.750 | 47 |\n| 23 | 3.450 | 78 |\n| 24 | 3.067 | 69 |\n| 25 | 4.533 | 74 |\n| 26 | 3.600 | 83 |\n| 27 | 1.967 | 55 |\n| 28 | 4.083 | 76 |\n| 29 | 3.850 | 78 |\n| 30 | 4.433 | 79 |\n| ⋮ | ⋮ | ⋮ |\n| 243 | 4.933 | 86 |\n| 244 | 2.900 | 63 |\n| 245 | 4.583 | 85 |\n| 246 | 3.833 | 82 |\n| 247 | 2.083 | 57 |\n| 248 | 4.367 | 82 |\n| 249 | 2.133 | 67 |\n| 250 | 4.350 | 74 |\n| 251 | 2.200 | 54 |\n| 252 | 4.450 | 83 |\n| 253 | 3.567 | 73 |\n| 254 | 4.500 | 73 |\n| 255 | 4.150 | 88 |\n| 256 | 3.817 | 80 |\n| 257 | 3.917 | 71 |\n| 258 | 4.450 | 83 |\n| 259 | 2.000 | 56 |\n| 260 | 4.283 | 79 |\n| 261 | 4.767 | 78 |\n| 262 | 4.533 | 84 |\n| 263 | 1.850 | 58 |\n| 264 | 4.250 | 83 |\n| 265 | 1.983 | 43 |\n| 266 | 2.250 | 60 |\n| 267 | 4.750 | 75 |\n| 268 | 4.117 | 81 |\n| 269 | 2.150 | 46 |\n| 270 | 4.417 | 90 |\n| 271 | 1.817 | 46 |\n| 272 | 4.467 | 74 |\n\n",
            "text/latex": "A data.frame: 272 × 2\n\\begin{tabular}{r|ll}\n  & eruptions & waiting\\\\\n  & <dbl> & <dbl>\\\\\n\\hline\n\t1 & 3.600 & 79\\\\\n\t2 & 1.800 & 54\\\\\n\t3 & 3.333 & 74\\\\\n\t4 & 2.283 & 62\\\\\n\t5 & 4.533 & 85\\\\\n\t6 & 2.883 & 55\\\\\n\t7 & 4.700 & 88\\\\\n\t8 & 3.600 & 85\\\\\n\t9 & 1.950 & 51\\\\\n\t10 & 4.350 & 85\\\\\n\t11 & 1.833 & 54\\\\\n\t12 & 3.917 & 84\\\\\n\t13 & 4.200 & 78\\\\\n\t14 & 1.750 & 47\\\\\n\t15 & 4.700 & 83\\\\\n\t16 & 2.167 & 52\\\\\n\t17 & 1.750 & 62\\\\\n\t18 & 4.800 & 84\\\\\n\t19 & 1.600 & 52\\\\\n\t20 & 4.250 & 79\\\\\n\t21 & 1.800 & 51\\\\\n\t22 & 1.750 & 47\\\\\n\t23 & 3.450 & 78\\\\\n\t24 & 3.067 & 69\\\\\n\t25 & 4.533 & 74\\\\\n\t26 & 3.600 & 83\\\\\n\t27 & 1.967 & 55\\\\\n\t28 & 4.083 & 76\\\\\n\t29 & 3.850 & 78\\\\\n\t30 & 4.433 & 79\\\\\n\t⋮ & ⋮ & ⋮\\\\\n\t243 & 4.933 & 86\\\\\n\t244 & 2.900 & 63\\\\\n\t245 & 4.583 & 85\\\\\n\t246 & 3.833 & 82\\\\\n\t247 & 2.083 & 57\\\\\n\t248 & 4.367 & 82\\\\\n\t249 & 2.133 & 67\\\\\n\t250 & 4.350 & 74\\\\\n\t251 & 2.200 & 54\\\\\n\t252 & 4.450 & 83\\\\\n\t253 & 3.567 & 73\\\\\n\t254 & 4.500 & 73\\\\\n\t255 & 4.150 & 88\\\\\n\t256 & 3.817 & 80\\\\\n\t257 & 3.917 & 71\\\\\n\t258 & 4.450 & 83\\\\\n\t259 & 2.000 & 56\\\\\n\t260 & 4.283 & 79\\\\\n\t261 & 4.767 & 78\\\\\n\t262 & 4.533 & 84\\\\\n\t263 & 1.850 & 58\\\\\n\t264 & 4.250 & 83\\\\\n\t265 & 1.983 & 43\\\\\n\t266 & 2.250 & 60\\\\\n\t267 & 4.750 & 75\\\\\n\t268 & 4.117 & 81\\\\\n\t269 & 2.150 & 46\\\\\n\t270 & 4.417 & 90\\\\\n\t271 & 1.817 & 46\\\\\n\t272 & 4.467 & 74\\\\\n\\end{tabular}\n",
            "text/plain": [
              "    eruptions waiting\n",
              "1   3.600     79     \n",
              "2   1.800     54     \n",
              "3   3.333     74     \n",
              "4   2.283     62     \n",
              "5   4.533     85     \n",
              "6   2.883     55     \n",
              "7   4.700     88     \n",
              "8   3.600     85     \n",
              "9   1.950     51     \n",
              "10  4.350     85     \n",
              "11  1.833     54     \n",
              "12  3.917     84     \n",
              "13  4.200     78     \n",
              "14  1.750     47     \n",
              "15  4.700     83     \n",
              "16  2.167     52     \n",
              "17  1.750     62     \n",
              "18  4.800     84     \n",
              "19  1.600     52     \n",
              "20  4.250     79     \n",
              "21  1.800     51     \n",
              "22  1.750     47     \n",
              "23  3.450     78     \n",
              "24  3.067     69     \n",
              "25  4.533     74     \n",
              "26  3.600     83     \n",
              "27  1.967     55     \n",
              "28  4.083     76     \n",
              "29  3.850     78     \n",
              "30  4.433     79     \n",
              "⋮   ⋮         ⋮      \n",
              "243 4.933     86     \n",
              "244 2.900     63     \n",
              "245 4.583     85     \n",
              "246 3.833     82     \n",
              "247 2.083     57     \n",
              "248 4.367     82     \n",
              "249 2.133     67     \n",
              "250 4.350     74     \n",
              "251 2.200     54     \n",
              "252 4.450     83     \n",
              "253 3.567     73     \n",
              "254 4.500     73     \n",
              "255 4.150     88     \n",
              "256 3.817     80     \n",
              "257 3.917     71     \n",
              "258 4.450     83     \n",
              "259 2.000     56     \n",
              "260 4.283     79     \n",
              "261 4.767     78     \n",
              "262 4.533     84     \n",
              "263 1.850     58     \n",
              "264 4.250     83     \n",
              "265 1.983     43     \n",
              "266 2.250     60     \n",
              "267 4.750     75     \n",
              "268 4.117     81     \n",
              "269 2.150     46     \n",
              "270 4.417     90     \n",
              "271 1.817     46     \n",
              "272 4.467     74     "
            ]
          },
          "metadata": {}
        }
      ]
    },
    {
      "cell_type": "markdown",
      "metadata": {
        "id": "hpkupERhFWWi"
      },
      "source": [
        "## 1. Localización de los datos.\n",
        "\n",
        "Con éstas medidas se pretende tener una idea de la ubicación de los datos en algún lugar de los números reales. Es importante dar la posición del dato más pequeño, del dato más grande, de lo que en Estadística se conoce como la tendencia central de los datos y los cuantiles (que dan otras ubicaciones incluidas las centrales).\n",
        "\n",
        "***\n",
        ">  **¿Cuánto tiempo tarda una exhalación del geyser? ¿Cuánto  tiempo se debe esperar hasta que aparezca una exhalación?**\n",
        "***\n"
      ]
    },
    {
      "cell_type": "markdown",
      "metadata": {
        "id": "8RwkRZA8LeEQ"
      },
      "source": [
        "### 1.1 El mínimo y el máximo\n",
        "\n",
        "En estadística a la más pequeña observación se le denomina mínimo o primer estadístico de orden y a la más grande se le llama máximo o último estadístico de orden. \n",
        "\n",
        "> El estadístico de orden kº es igual al k-ésimo valor más pequeño de una muestra estadística.\n",
        "$$ X_{(1)}, X_{(2)}, X_{(3)},...,X_{(n)} $$"
      ]
    },
    {
      "cell_type": "code",
      "metadata": {
        "id": "Ze7WVEL7N7ea",
        "colab": {
          "base_uri": "https://localhost:8080/",
          "height": 277
        },
        "outputId": "7202608a-3e6c-4f30-afeb-595cda38fce3"
      },
      "source": [
        "# calcular el mínimo y máximo de las dos variables con las funciones min y max\n",
        "min(faithful$eruptions)\n",
        "min(faithful$waiting)\n",
        "max(faithful$eruptions)\n",
        "max(faithful$waiting)\n",
        "# ordenando tambien pueden encontrarse el mínimo y el máximo\n",
        "sort(faithful$waiting,decreasing = T)    # con el argumento decreasing se elije la forma\n",
        "# Otra opción es la función range\n",
        "range(faithful$eruptions)"
      ],
      "execution_count": null,
      "outputs": [
        {
          "output_type": "display_data",
          "data": {
            "text/html": [
              "1.6"
            ],
            "text/markdown": "1.6",
            "text/latex": "1.6",
            "text/plain": [
              "[1] 1.6"
            ]
          },
          "metadata": {}
        },
        {
          "output_type": "display_data",
          "data": {
            "text/html": [
              "43"
            ],
            "text/markdown": "43",
            "text/latex": "43",
            "text/plain": [
              "[1] 43"
            ]
          },
          "metadata": {}
        },
        {
          "output_type": "display_data",
          "data": {
            "text/html": [
              "5.1"
            ],
            "text/markdown": "5.1",
            "text/latex": "5.1",
            "text/plain": [
              "[1] 5.1"
            ]
          },
          "metadata": {}
        },
        {
          "output_type": "display_data",
          "data": {
            "text/html": [
              "96"
            ],
            "text/markdown": "96",
            "text/latex": "96",
            "text/plain": [
              "[1] 96"
            ]
          },
          "metadata": {}
        },
        {
          "output_type": "display_data",
          "data": {
            "text/html": [
              "<style>\n",
              ".list-inline {list-style: none; margin:0; padding: 0}\n",
              ".list-inline>li {display: inline-block}\n",
              ".list-inline>li:not(:last-child)::after {content: \"\\00b7\"; padding: 0 .5ex}\n",
              "</style>\n",
              "<ol class=list-inline><li>96</li><li>94</li><li>93</li><li>93</li><li>92</li><li>91</li><li>90</li><li>90</li><li>90</li><li>90</li><li>90</li><li>90</li><li>89</li><li>89</li><li>89</li><li>88</li><li>88</li><li>88</li><li>88</li><li>88</li><li>88</li><li>87</li><li>87</li><li>86</li><li>86</li><li>86</li><li>86</li><li>86</li><li>86</li><li>85</li><li>85</li><li>85</li><li>85</li><li>85</li><li>85</li><li>84</li><li>84</li><li>84</li><li>84</li><li>84</li><li>84</li><li>84</li><li>84</li><li>84</li><li>84</li><li>83</li><li>83</li><li>83</li><li>83</li><li>83</li><li>83</li><li>83</li><li>83</li><li>83</li><li>83</li><li>83</li><li>83</li><li>83</li><li>83</li><li>82</li><li>82</li><li>82</li><li>82</li><li>82</li><li>82</li><li>82</li><li>82</li><li>82</li><li>82</li><li>82</li><li>82</li><li>81</li><li>81</li><li>81</li><li>81</li><li>81</li><li>81</li><li>81</li><li>81</li><li>81</li><li>81</li><li>81</li><li>81</li><li>81</li><li>80</li><li>80</li><li>80</li><li>80</li><li>80</li><li>80</li><li>80</li><li>80</li><li>79</li><li>79</li><li>79</li><li>79</li><li>79</li><li>79</li><li>79</li><li>79</li><li>79</li><li>79</li><li>78</li><li>78</li><li>78</li><li>78</li><li>78</li><li>78</li><li>78</li><li>78</li><li>78</li><li>78</li><li>78</li><li>78</li><li>78</li><li>78</li><li>78</li><li>77</li><li>77</li><li>77</li><li>77</li><li>77</li><li>77</li><li>77</li><li>77</li><li>77</li><li>77</li><li>77</li><li>77</li><li>76</li><li>76</li><li>76</li><li>76</li><li>76</li><li>76</li><li>76</li><li>76</li><li>76</li><li>75</li><li>75</li><li>75</li><li>75</li><li>75</li><li>75</li><li>75</li><li>75</li><li>74</li><li>74</li><li>74</li><li>74</li><li>74</li><li>74</li><li>73</li><li>73</li><li>73</li><li>73</li><li>73</li><li>73</li><li>73</li><li>72</li><li>71</li><li>71</li><li>71</li><li>71</li><li>71</li><li>70</li><li>70</li><li>70</li><li>70</li><li>69</li><li>69</li><li>68</li><li>67</li><li>66</li><li>66</li><li>65</li><li>65</li><li>65</li><li>64</li><li>64</li><li>64</li><li>64</li><li>63</li><li>63</li><li>63</li><li>62</li><li>62</li><li>62</li><li>62</li><li>60</li><li>60</li><li>60</li><li>60</li><li>60</li><li>60</li><li>59</li><li>59</li><li>59</li><li>59</li><li>59</li><li>59</li><li>59</li><li>58</li><li>58</li><li>58</li><li>58</li><li>57</li><li>57</li><li>57</li><li>56</li><li>56</li><li>56</li><li>56</li><li>55</li><li>55</li><li>55</li><li>55</li><li>55</li><li>55</li><li>54</li><li>54</li><li>54</li><li>54</li><li>54</li><li>54</li><li>54</li><li>54</li><li>54</li><li>53</li><li>53</li><li>53</li><li>53</li><li>53</li><li>53</li><li>53</li><li>52</li><li>52</li><li>52</li><li>52</li><li>52</li><li>51</li><li>51</li><li>51</li><li>51</li><li>51</li><li>51</li><li>50</li><li>50</li><li>50</li><li>50</li><li>50</li><li>49</li><li>49</li><li>49</li><li>49</li><li>49</li><li>48</li><li>48</li><li>48</li><li>47</li><li>47</li><li>47</li><li>47</li><li>46</li><li>46</li><li>46</li><li>46</li><li>46</li><li>45</li><li>45</li><li>45</li><li>43</li></ol>\n"
            ],
            "text/markdown": "1. 96\n2. 94\n3. 93\n4. 93\n5. 92\n6. 91\n7. 90\n8. 90\n9. 90\n10. 90\n11. 90\n12. 90\n13. 89\n14. 89\n15. 89\n16. 88\n17. 88\n18. 88\n19. 88\n20. 88\n21. 88\n22. 87\n23. 87\n24. 86\n25. 86\n26. 86\n27. 86\n28. 86\n29. 86\n30. 85\n31. 85\n32. 85\n33. 85\n34. 85\n35. 85\n36. 84\n37. 84\n38. 84\n39. 84\n40. 84\n41. 84\n42. 84\n43. 84\n44. 84\n45. 84\n46. 83\n47. 83\n48. 83\n49. 83\n50. 83\n51. 83\n52. 83\n53. 83\n54. 83\n55. 83\n56. 83\n57. 83\n58. 83\n59. 83\n60. 82\n61. 82\n62. 82\n63. 82\n64. 82\n65. 82\n66. 82\n67. 82\n68. 82\n69. 82\n70. 82\n71. 82\n72. 81\n73. 81\n74. 81\n75. 81\n76. 81\n77. 81\n78. 81\n79. 81\n80. 81\n81. 81\n82. 81\n83. 81\n84. 81\n85. 80\n86. 80\n87. 80\n88. 80\n89. 80\n90. 80\n91. 80\n92. 80\n93. 79\n94. 79\n95. 79\n96. 79\n97. 79\n98. 79\n99. 79\n100. 79\n101. 79\n102. 79\n103. 78\n104. 78\n105. 78\n106. 78\n107. 78\n108. 78\n109. 78\n110. 78\n111. 78\n112. 78\n113. 78\n114. 78\n115. 78\n116. 78\n117. 78\n118. 77\n119. 77\n120. 77\n121. 77\n122. 77\n123. 77\n124. 77\n125. 77\n126. 77\n127. 77\n128. 77\n129. 77\n130. 76\n131. 76\n132. 76\n133. 76\n134. 76\n135. 76\n136. 76\n137. 76\n138. 76\n139. 75\n140. 75\n141. 75\n142. 75\n143. 75\n144. 75\n145. 75\n146. 75\n147. 74\n148. 74\n149. 74\n150. 74\n151. 74\n152. 74\n153. 73\n154. 73\n155. 73\n156. 73\n157. 73\n158. 73\n159. 73\n160. 72\n161. 71\n162. 71\n163. 71\n164. 71\n165. 71\n166. 70\n167. 70\n168. 70\n169. 70\n170. 69\n171. 69\n172. 68\n173. 67\n174. 66\n175. 66\n176. 65\n177. 65\n178. 65\n179. 64\n180. 64\n181. 64\n182. 64\n183. 63\n184. 63\n185. 63\n186. 62\n187. 62\n188. 62\n189. 62\n190. 60\n191. 60\n192. 60\n193. 60\n194. 60\n195. 60\n196. 59\n197. 59\n198. 59\n199. 59\n200. 59\n201. 59\n202. 59\n203. 58\n204. 58\n205. 58\n206. 58\n207. 57\n208. 57\n209. 57\n210. 56\n211. 56\n212. 56\n213. 56\n214. 55\n215. 55\n216. 55\n217. 55\n218. 55\n219. 55\n220. 54\n221. 54\n222. 54\n223. 54\n224. 54\n225. 54\n226. 54\n227. 54\n228. 54\n229. 53\n230. 53\n231. 53\n232. 53\n233. 53\n234. 53\n235. 53\n236. 52\n237. 52\n238. 52\n239. 52\n240. 52\n241. 51\n242. 51\n243. 51\n244. 51\n245. 51\n246. 51\n247. 50\n248. 50\n249. 50\n250. 50\n251. 50\n252. 49\n253. 49\n254. 49\n255. 49\n256. 49\n257. 48\n258. 48\n259. 48\n260. 47\n261. 47\n262. 47\n263. 47\n264. 46\n265. 46\n266. 46\n267. 46\n268. 46\n269. 45\n270. 45\n271. 45\n272. 43\n\n\n",
            "text/latex": "\\begin{enumerate*}\n\\item 96\n\\item 94\n\\item 93\n\\item 93\n\\item 92\n\\item 91\n\\item 90\n\\item 90\n\\item 90\n\\item 90\n\\item 90\n\\item 90\n\\item 89\n\\item 89\n\\item 89\n\\item 88\n\\item 88\n\\item 88\n\\item 88\n\\item 88\n\\item 88\n\\item 87\n\\item 87\n\\item 86\n\\item 86\n\\item 86\n\\item 86\n\\item 86\n\\item 86\n\\item 85\n\\item 85\n\\item 85\n\\item 85\n\\item 85\n\\item 85\n\\item 84\n\\item 84\n\\item 84\n\\item 84\n\\item 84\n\\item 84\n\\item 84\n\\item 84\n\\item 84\n\\item 84\n\\item 83\n\\item 83\n\\item 83\n\\item 83\n\\item 83\n\\item 83\n\\item 83\n\\item 83\n\\item 83\n\\item 83\n\\item 83\n\\item 83\n\\item 83\n\\item 83\n\\item 82\n\\item 82\n\\item 82\n\\item 82\n\\item 82\n\\item 82\n\\item 82\n\\item 82\n\\item 82\n\\item 82\n\\item 82\n\\item 82\n\\item 81\n\\item 81\n\\item 81\n\\item 81\n\\item 81\n\\item 81\n\\item 81\n\\item 81\n\\item 81\n\\item 81\n\\item 81\n\\item 81\n\\item 81\n\\item 80\n\\item 80\n\\item 80\n\\item 80\n\\item 80\n\\item 80\n\\item 80\n\\item 80\n\\item 79\n\\item 79\n\\item 79\n\\item 79\n\\item 79\n\\item 79\n\\item 79\n\\item 79\n\\item 79\n\\item 79\n\\item 78\n\\item 78\n\\item 78\n\\item 78\n\\item 78\n\\item 78\n\\item 78\n\\item 78\n\\item 78\n\\item 78\n\\item 78\n\\item 78\n\\item 78\n\\item 78\n\\item 78\n\\item 77\n\\item 77\n\\item 77\n\\item 77\n\\item 77\n\\item 77\n\\item 77\n\\item 77\n\\item 77\n\\item 77\n\\item 77\n\\item 77\n\\item 76\n\\item 76\n\\item 76\n\\item 76\n\\item 76\n\\item 76\n\\item 76\n\\item 76\n\\item 76\n\\item 75\n\\item 75\n\\item 75\n\\item 75\n\\item 75\n\\item 75\n\\item 75\n\\item 75\n\\item 74\n\\item 74\n\\item 74\n\\item 74\n\\item 74\n\\item 74\n\\item 73\n\\item 73\n\\item 73\n\\item 73\n\\item 73\n\\item 73\n\\item 73\n\\item 72\n\\item 71\n\\item 71\n\\item 71\n\\item 71\n\\item 71\n\\item 70\n\\item 70\n\\item 70\n\\item 70\n\\item 69\n\\item 69\n\\item 68\n\\item 67\n\\item 66\n\\item 66\n\\item 65\n\\item 65\n\\item 65\n\\item 64\n\\item 64\n\\item 64\n\\item 64\n\\item 63\n\\item 63\n\\item 63\n\\item 62\n\\item 62\n\\item 62\n\\item 62\n\\item 60\n\\item 60\n\\item 60\n\\item 60\n\\item 60\n\\item 60\n\\item 59\n\\item 59\n\\item 59\n\\item 59\n\\item 59\n\\item 59\n\\item 59\n\\item 58\n\\item 58\n\\item 58\n\\item 58\n\\item 57\n\\item 57\n\\item 57\n\\item 56\n\\item 56\n\\item 56\n\\item 56\n\\item 55\n\\item 55\n\\item 55\n\\item 55\n\\item 55\n\\item 55\n\\item 54\n\\item 54\n\\item 54\n\\item 54\n\\item 54\n\\item 54\n\\item 54\n\\item 54\n\\item 54\n\\item 53\n\\item 53\n\\item 53\n\\item 53\n\\item 53\n\\item 53\n\\item 53\n\\item 52\n\\item 52\n\\item 52\n\\item 52\n\\item 52\n\\item 51\n\\item 51\n\\item 51\n\\item 51\n\\item 51\n\\item 51\n\\item 50\n\\item 50\n\\item 50\n\\item 50\n\\item 50\n\\item 49\n\\item 49\n\\item 49\n\\item 49\n\\item 49\n\\item 48\n\\item 48\n\\item 48\n\\item 47\n\\item 47\n\\item 47\n\\item 47\n\\item 46\n\\item 46\n\\item 46\n\\item 46\n\\item 46\n\\item 45\n\\item 45\n\\item 45\n\\item 43\n\\end{enumerate*}\n",
            "text/plain": [
              "  [1] 96 94 93 93 92 91 90 90 90 90 90 90 89 89 89 88 88 88 88 88 88 87 87 86 86\n",
              " [26] 86 86 86 86 85 85 85 85 85 85 84 84 84 84 84 84 84 84 84 84 83 83 83 83 83\n",
              " [51] 83 83 83 83 83 83 83 83 83 82 82 82 82 82 82 82 82 82 82 82 82 81 81 81 81\n",
              " [76] 81 81 81 81 81 81 81 81 81 80 80 80 80 80 80 80 80 79 79 79 79 79 79 79 79\n",
              "[101] 79 79 78 78 78 78 78 78 78 78 78 78 78 78 78 78 78 77 77 77 77 77 77 77 77\n",
              "[126] 77 77 77 77 76 76 76 76 76 76 76 76 76 75 75 75 75 75 75 75 75 74 74 74 74\n",
              "[151] 74 74 73 73 73 73 73 73 73 72 71 71 71 71 71 70 70 70 70 69 69 68 67 66 66\n",
              "[176] 65 65 65 64 64 64 64 63 63 63 62 62 62 62 60 60 60 60 60 60 59 59 59 59 59\n",
              "[201] 59 59 58 58 58 58 57 57 57 56 56 56 56 55 55 55 55 55 55 54 54 54 54 54 54\n",
              "[226] 54 54 54 53 53 53 53 53 53 53 52 52 52 52 52 51 51 51 51 51 51 50 50 50 50\n",
              "[251] 50 49 49 49 49 49 48 48 48 47 47 47 47 46 46 46 46 46 45 45 45 43"
            ]
          },
          "metadata": {}
        },
        {
          "output_type": "display_data",
          "data": {
            "text/html": [
              "<style>\n",
              ".list-inline {list-style: none; margin:0; padding: 0}\n",
              ".list-inline>li {display: inline-block}\n",
              ".list-inline>li:not(:last-child)::after {content: \"\\00b7\"; padding: 0 .5ex}\n",
              "</style>\n",
              "<ol class=list-inline><li>1.6</li><li>5.1</li></ol>\n"
            ],
            "text/markdown": "1. 1.6\n2. 5.1\n\n\n",
            "text/latex": "\\begin{enumerate*}\n\\item 1.6\n\\item 5.1\n\\end{enumerate*}\n",
            "text/plain": [
              "[1] 1.6 5.1"
            ]
          },
          "metadata": {}
        }
      ]
    },
    {
      "cell_type": "markdown",
      "metadata": {
        "id": "HQ9Zvxlt7Mpz"
      },
      "source": [
        "Interpretación:\n",
        "\n",
        "La exhalación que tardó menos fue de 1.6 min y la que tardó mas de 5.1 min\n",
        "\n",
        "El tiempo menor en el que apareció una exhalación fue de 43 min y el mayor de 96 min.\n",
        "\n"
      ]
    },
    {
      "cell_type": "markdown",
      "metadata": {
        "id": "fqdHKMlxPKvJ"
      },
      "source": [
        "### 1.2 Tendencia central\n",
        "\n",
        "Una medida de tendencia central es un número ubicado hacia el centro de la distribución de los valores de una serie de observaciones.\n",
        "\n",
        "Las medidas de tendencia central más utilizadas son:\n",
        "\n",
        "1. Media, promedio, media aritmética o valor esperado (esperanza matemática) \n",
        "$$Media \\: muestral = \\bar{x} = \\frac{1}{n} \\sum_{i=1}^{n}{x_i} $$\n",
        "$$Media \\: poblacional = \\mu = \\frac{1}{N} \\sum_{i=1}^{N}{X_i} $$ \n",
        "\n",
        "2. Media ponderada. \n",
        "\n",
        "<center>\n",
        "\n",
        "![](https://wikimedia.org/api/rest_v1/media/math/render/svg/e8d7a3414a91d06cbc00c2471c1b86ddefd5c9c3)\n",
        "\n",
        "</center>\n",
        "donde $w_1, w_2,...,wn$ son las ponderaciones.\n",
        "\n",
        "\n",
        "3. Media podada (trimmed mean) o truncada\n",
        "\n",
        "<center>\n",
        "\n",
        "![](https://images.squarespace-cdn.com/content/v1/521e95f4e4b01c5870ce81cf/1391011094816-4LPTW22KVTEGNAREOZ64/fig.png)\n",
        "\n",
        "</center>\n",
        "\n",
        "4. Media geométrica. Es un buen estimador de la mediana.\n",
        "\n",
        "$$GM = (x_1*x_2, ...,x_{n-1}* x_n)^{1/n}$$\n",
        "\n",
        "$$GM = exp(\\bar{y}),\\: \\: \\bar{y}=\\frac {1}{n}\\sum_{i=1}^{n}{ln(x_i)}$$\n",
        "\n",
        "5. Mediana. \n",
        "\n",
        "|   |   |   |   |   |\n",
        "|---|---|---|---|---|\n",
        "| $$X_{(n+1/2)}$$  | Si n es impar  |\n",
        "| $$\\frac{1}{2}(X_{(n/2)}+ X_{(n/2+1)}) $$  |Si n es par   |   \n",
        "\n",
        "6. Moda\n",
        "\n",
        "[https://es.wikipedia.org/wiki/Medidas_de_tendencia_central](https://es.wikipedia.org/wiki/Medidas_de_tendencia_central)"
      ]
    },
    {
      "cell_type": "code",
      "metadata": {
        "id": "LbWRZhkTBK9J",
        "colab": {
          "base_uri": "https://localhost:8080/",
          "height": 52
        },
        "outputId": "dae9d09c-dc38-4224-ea74-bc74ab4b2897"
      },
      "source": [
        "# La media \n",
        "mean(faithful$eruptions)\n",
        "mean(faithful$waiting)\n"
      ],
      "execution_count": null,
      "outputs": [
        {
          "output_type": "display_data",
          "data": {
            "text/html": [
              "3.48778308823529"
            ],
            "text/markdown": "3.48778308823529",
            "text/latex": "3.48778308823529",
            "text/plain": [
              "[1] 3.487783"
            ]
          },
          "metadata": {}
        },
        {
          "output_type": "display_data",
          "data": {
            "text/html": [
              "70.8970588235294"
            ],
            "text/markdown": "70.8970588235294",
            "text/latex": "70.8970588235294",
            "text/plain": [
              "[1] 70.89706"
            ]
          },
          "metadata": {}
        }
      ]
    },
    {
      "cell_type": "markdown",
      "metadata": {
        "id": "pQeuJ7MZjIIK"
      },
      "source": [
        "Interpretación: \n",
        "El tiempo que tardan las exhalaciones es de aprox 3.49 min\n",
        "\n",
        "El tiempo que se debe esperar para observar una exhalación es de aprox 70.9 min\n"
      ]
    },
    {
      "cell_type": "code",
      "metadata": {
        "id": "ryNgiGgpiplf",
        "colab": {
          "base_uri": "https://localhost:8080/",
          "height": 52
        },
        "outputId": "802b06e3-ce66-4c60-9d15-87ce3a4513a5"
      },
      "source": [
        "# la mediana\n",
        "median(faithful$eruptions)\n",
        "median(faithful$waiting)"
      ],
      "execution_count": null,
      "outputs": [
        {
          "output_type": "display_data",
          "data": {
            "text/html": [
              "4"
            ],
            "text/markdown": "4",
            "text/latex": "4",
            "text/plain": [
              "[1] 4"
            ]
          },
          "metadata": {}
        },
        {
          "output_type": "display_data",
          "data": {
            "text/html": [
              "76"
            ],
            "text/markdown": "76",
            "text/latex": "76",
            "text/plain": [
              "[1] 76"
            ]
          },
          "metadata": {}
        }
      ]
    },
    {
      "cell_type": "markdown",
      "source": [
        "Interpretación:\n",
        "El tiempo que tardan las exhalaciones es de aprox 4 min\n",
        "\n",
        "El tiempo que se debe esperar para observar una exhalación es de aprox 76 min"
      ],
      "metadata": {
        "id": "kjn5MgJ5UR7J"
      }
    },
    {
      "cell_type": "code",
      "metadata": {
        "id": "jN1UzqHDjCCq",
        "colab": {
          "base_uri": "https://localhost:8080/",
          "height": 382
        },
        "outputId": "8f4576fb-c7bf-4304-802d-9940956f927b"
      },
      "source": [
        "# la moda\n",
        "#table(faithful$eruptions)\n",
        "\n",
        "# ordenar la tabla según la frecuencia\n",
        "sort(table(faithful$eruptions))\n",
        "\n",
        "\n"
      ],
      "execution_count": null,
      "outputs": [
        {
          "output_type": "display_data",
          "data": {
            "text/plain": [
              "\n",
              "  1.6 1.667   1.7 1.733  1.95 2.067 2.133  2.15 2.183 2.217 2.267 2.283   2.3 \n",
              "    1     1     1     1     1     1     1     1     1     1     1     1     1 \n",
              "2.317 2.333  2.35 2.367 2.383 2.483 2.617 2.633   2.8 2.883   2.9 3.067 3.317 \n",
              "    1     1     1     1     1     1     1     1     1     1     1     1     1 \n",
              "3.367 3.417  3.45 3.683 3.717 3.733  3.75 3.817 3.883 3.966 3.967  4.05 4.183 \n",
              "    1     1     1     1     1     1     1     1     1     1     1     1     1 \n",
              "  4.2 4.317 4.366 4.383   4.4 4.483 4.517  4.55 4.617  4.65 4.716 4.733  4.75 \n",
              "    1     1     1     1     1     1     1     1     1     1     1     1     1 \n",
              "4.767 4.783  4.85 4.883     5 5.033 5.067   5.1 1.783  1.85 1.917 1.933 2.033 \n",
              "    1     1     1     1     1     1     1     1     2     2     2     2     2 \n",
              "2.083 2.167 2.233  2.25   2.4 2.417 3.333   3.5 3.567 3.767  3.85  3.95 4.033 \n",
              "    2     2     2     2     2     2     2     2     2     2     2     2     2 \n",
              "4.067   4.1 4.117 4.133 4.267 4.283   4.3 4.433 4.467 4.667 4.817 4.833   4.9 \n",
              "    2     2     2     2     2     2     2     2     2     2     2     2     2 \n",
              "1.817 1.967 1.983 2.017   2.1   2.2 3.917 4.233 4.367  4.45 4.567 4.633 4.933 \n",
              "    3     3     3     3     3     3     3     3     3     3     3     3     3 \n",
              "  1.8 1.883     2   3.6  4.15 4.167  4.25  4.35 4.417 4.583   4.6 3.833 4.083 \n",
              "    4     4     4     4     4     4     4     4     4     4     4     5     5 \n",
              "4.333 4.533  1.75     4   4.7   4.8 1.833 1.867   4.5 \n",
              "    5     5     6     6     6     6     7     8     8 "
            ]
          },
          "metadata": {}
        }
      ]
    },
    {
      "cell_type": "markdown",
      "metadata": {
        "id": "fPjxvBb5khI_"
      },
      "source": [
        "Interpretación: Algunas exhalaciones duran aproximadamente 1.867 min y otras tardan aprox 4.5 min\n"
      ]
    },
    {
      "cell_type": "code",
      "source": [
        "# histograma\n",
        "hist(faithful$eruptions)\n",
        "abline(v = 1.867, col = \"red\")    # traza lineas verticales(v), horizontales(h)\n",
        "abline(v = 4.5, col = 'red')\n",
        "abline(v =4, col = \"blue\")\n",
        "abline(v = mean(faithful$eruptions))"
      ],
      "metadata": {
        "id": "-KSDRCeIbBGN",
        "colab": {
          "base_uri": "https://localhost:8080/",
          "height": 437
        },
        "outputId": "8c84a142-6754-4b8c-9efa-8666cdfe12bc"
      },
      "execution_count": null,
      "outputs": [
        {
          "output_type": "display_data",
          "data": {
            "text/plain": [
              "Plot with title “Histogram of faithful$eruptions”"
            ],
            "image/png": "[encoded data removed]"
          },
          "metadata": {
            "image/png": {
              "width": 420,
              "height": 420
            }
          }
        }
      ]
    },
    {
      "cell_type": "markdown",
      "metadata": {
        "id": "610sndmTknXu"
      },
      "source": [
        "## ¿Cuál medida de tendencia central usar?\n",
        "### La relación entre la gráfica de la distribución y las medidas de tendencia central.\n",
        "\n",
        "En distribuciones unimodales cuando la media, la moda y la mediana coinciden la distribución es simétrica.\n",
        "\n",
        "En distribuciones unimodales cuando la media, la moda y la mediana no coinciden la distribución es sesgada. Si la media es mayor que la mediana (la media a la derecha de la mediana) entonces la distribución está sesgada a la derecha (o positivamente).\n",
        "\n",
        "Si la media es menor que la mediana (la media a la izquierda de la mediana) entonces la distribución está sesgada a la izquierda (o negativamente)\n",
        "\n",
        "![](https://mucioosorio.github.io/probabilidad/figs/06_forma-datos.png)\n",
        "\n",
        "[Tendencia central y gráfica](http://www.cca.org.mx/cca/cursos/estadistica/html/m10/comoparacion_medidas.htm)"
      ]
    },
    {
      "cell_type": "code",
      "metadata": {
        "id": "84smvQTzI_WS"
      },
      "source": [
        "# Según el valor de la media, mediana y moda puede inferir sobre la forma de la distribución de los tiempos de las exhalaciones\n",
        "\n"
      ],
      "execution_count": null,
      "outputs": []
    },
    {
      "cell_type": "markdown",
      "metadata": {
        "id": "hSD9IbmxpiXj"
      },
      "source": [
        "¿Qué forma tiene la distribución? bimodal ¿Cuál medida recomendaría usar? \n",
        "\n",
        "\n",
        "\n",
        "\n",
        "\n"
      ]
    },
    {
      "cell_type": "markdown",
      "source": [
        "# ¿Cómo leer datos de excel?"
      ],
      "metadata": {
        "id": "XDsdEsrqnpjo"
      }
    },
    {
      "cell_type": "code",
      "source": [
        "#  crear el objeto con los datos\n",
        "\n",
        "datos = read.csv(\"estaturas.csv\")\n",
        "datos\n"
      ],
      "metadata": {
        "colab": {
          "base_uri": "https://localhost:8080/",
          "height": 1000
        },
        "id": "iYvYVjylnlCy",
        "outputId": "6e796d01-372e-4d29-b3ae-e4fc649a2157"
      },
      "execution_count": null,
      "outputs": [
        {
          "output_type": "display_data",
          "data": {
            "text/html": [
              "<table class=\"dataframe\">\n",
              "<caption>A data.frame: 30 × 1</caption>\n",
              "<thead>\n",
              "\t<tr><th scope=col>Estatura</th></tr>\n",
              "\t<tr><th scope=col>&lt;dbl&gt;</th></tr>\n",
              "</thead>\n",
              "<tbody>\n",
              "\t<tr><td>1.61</td></tr>\n",
              "\t<tr><td>1.63</td></tr>\n",
              "\t<tr><td>1.63</td></tr>\n",
              "\t<tr><td>1.64</td></tr>\n",
              "\t<tr><td>1.67</td></tr>\n",
              "\t<tr><td>1.67</td></tr>\n",
              "\t<tr><td>1.68</td></tr>\n",
              "\t<tr><td>1.68</td></tr>\n",
              "\t<tr><td>1.68</td></tr>\n",
              "\t<tr><td>1.69</td></tr>\n",
              "\t<tr><td>1.69</td></tr>\n",
              "\t<tr><td>1.70</td></tr>\n",
              "\t<tr><td>1.70</td></tr>\n",
              "\t<tr><td>1.70</td></tr>\n",
              "\t<tr><td>1.70</td></tr>\n",
              "\t<tr><td>1.71</td></tr>\n",
              "\t<tr><td>1.71</td></tr>\n",
              "\t<tr><td>1.71</td></tr>\n",
              "\t<tr><td>1.72</td></tr>\n",
              "\t<tr><td>1.73</td></tr>\n",
              "\t<tr><td>1.73</td></tr>\n",
              "\t<tr><td>1.73</td></tr>\n",
              "\t<tr><td>1.73</td></tr>\n",
              "\t<tr><td>1.73</td></tr>\n",
              "\t<tr><td>1.74</td></tr>\n",
              "\t<tr><td>1.75</td></tr>\n",
              "\t<tr><td>1.76</td></tr>\n",
              "\t<tr><td>1.77</td></tr>\n",
              "\t<tr><td>1.77</td></tr>\n",
              "\t<tr><td>1.79</td></tr>\n",
              "</tbody>\n",
              "</table>\n"
            ],
            "text/markdown": "\nA data.frame: 30 × 1\n\n| Estatura &lt;dbl&gt; |\n|---|\n| 1.61 |\n| 1.63 |\n| 1.63 |\n| 1.64 |\n| 1.67 |\n| 1.67 |\n| 1.68 |\n| 1.68 |\n| 1.68 |\n| 1.69 |\n| 1.69 |\n| 1.70 |\n| 1.70 |\n| 1.70 |\n| 1.70 |\n| 1.71 |\n| 1.71 |\n| 1.71 |\n| 1.72 |\n| 1.73 |\n| 1.73 |\n| 1.73 |\n| 1.73 |\n| 1.73 |\n| 1.74 |\n| 1.75 |\n| 1.76 |\n| 1.77 |\n| 1.77 |\n| 1.79 |\n\n",
            "text/latex": "A data.frame: 30 × 1\n\\begin{tabular}{l}\n Estatura\\\\\n <dbl>\\\\\n\\hline\n\t 1.61\\\\\n\t 1.63\\\\\n\t 1.63\\\\\n\t 1.64\\\\\n\t 1.67\\\\\n\t 1.67\\\\\n\t 1.68\\\\\n\t 1.68\\\\\n\t 1.68\\\\\n\t 1.69\\\\\n\t 1.69\\\\\n\t 1.70\\\\\n\t 1.70\\\\\n\t 1.70\\\\\n\t 1.70\\\\\n\t 1.71\\\\\n\t 1.71\\\\\n\t 1.71\\\\\n\t 1.72\\\\\n\t 1.73\\\\\n\t 1.73\\\\\n\t 1.73\\\\\n\t 1.73\\\\\n\t 1.73\\\\\n\t 1.74\\\\\n\t 1.75\\\\\n\t 1.76\\\\\n\t 1.77\\\\\n\t 1.77\\\\\n\t 1.79\\\\\n\\end{tabular}\n",
            "text/plain": [
              "   Estatura\n",
              "1  1.61    \n",
              "2  1.63    \n",
              "3  1.63    \n",
              "4  1.64    \n",
              "5  1.67    \n",
              "6  1.67    \n",
              "7  1.68    \n",
              "8  1.68    \n",
              "9  1.68    \n",
              "10 1.69    \n",
              "11 1.69    \n",
              "12 1.70    \n",
              "13 1.70    \n",
              "14 1.70    \n",
              "15 1.70    \n",
              "16 1.71    \n",
              "17 1.71    \n",
              "18 1.71    \n",
              "19 1.72    \n",
              "20 1.73    \n",
              "21 1.73    \n",
              "22 1.73    \n",
              "23 1.73    \n",
              "24 1.73    \n",
              "25 1.74    \n",
              "26 1.75    \n",
              "27 1.76    \n",
              "28 1.77    \n",
              "29 1.77    \n",
              "30 1.79    "
            ]
          },
          "metadata": {}
        }
      ]
    },
    {
      "cell_type": "code",
      "source": [
        "# CALCULAR EL mínimo. máximo, PROMEDIO, LA MEDIANA Y LA MODA\n",
        "min(datos$Estatura)\n",
        "max(datos$Estatura)\n",
        "mean(datos$Estatura)\n",
        "median(datos$Estatura)\n",
        "sort(table(datos$Estatura))"
      ],
      "metadata": {
        "colab": {
          "base_uri": "https://localhost:8080/",
          "height": 140
        },
        "id": "ct53S71CtHoR",
        "outputId": "3043737b-8666-4a14-bbc2-9505c4d4f665"
      },
      "execution_count": null,
      "outputs": [
        {
          "output_type": "display_data",
          "data": {
            "text/html": [
              "1.61"
            ],
            "text/markdown": "1.61",
            "text/latex": "1.61",
            "text/plain": [
              "[1] 1.61"
            ]
          },
          "metadata": {}
        },
        {
          "output_type": "display_data",
          "data": {
            "text/html": [
              "1.79"
            ],
            "text/markdown": "1.79",
            "text/latex": "1.79",
            "text/plain": [
              "[1] 1.79"
            ]
          },
          "metadata": {}
        },
        {
          "output_type": "display_data",
          "data": {
            "text/html": [
              "1.705"
            ],
            "text/markdown": "1.705",
            "text/latex": "1.705",
            "text/plain": [
              "[1] 1.705"
            ]
          },
          "metadata": {}
        },
        {
          "output_type": "display_data",
          "data": {
            "text/html": [
              "1.705"
            ],
            "text/markdown": "1.705",
            "text/latex": "1.705",
            "text/plain": [
              "[1] 1.705"
            ]
          },
          "metadata": {}
        },
        {
          "output_type": "display_data",
          "data": {
            "text/plain": [
              "\n",
              "1.61 1.64 1.72 1.74 1.75 1.76 1.79 1.63 1.67 1.69 1.77 1.68 1.71  1.7 1.73 \n",
              "   1    1    1    1    1    1    1    2    2    2    2    3    3    4    5 "
            ]
          },
          "metadata": {}
        }
      ]
    },
    {
      "cell_type": "markdown",
      "source": [
        "La estatura de los alumnos se encuentra entre 1.61 y 1.79m. La mayoría se ubica alrededor de 1.705m "
      ],
      "metadata": {
        "id": "Ud5RHba8t7tS"
      }
    },
    {
      "cell_type": "code",
      "source": [
        "# histograma de las estatuuras\n",
        "hist(datos$Estatura)"
      ],
      "metadata": {
        "colab": {
          "base_uri": "https://localhost:8080/",
          "height": 437
        },
        "id": "NzWxt6k2uU2e",
        "outputId": "0976decf-9940-4a1e-c74c-0a7d715b0377"
      },
      "execution_count": null,
      "outputs": [
        {
          "output_type": "display_data",
          "data": {
            "text/plain": [
              "Plot with title “Histogram of datos$Estatura”"
            ],
            "image/png": "[encoded data removed]"
          },
          "metadata": {
            "image/png": {
              "width": 420,
              "height": 420
            }
          }
        }
      ]
    },
    {
      "cell_type": "code",
      "source": [
        "# leer documento sin nombre de columna\n",
        "# debe agregar el argumento header en falso (F o FALSE)\n",
        "datos2 = read.csv(\"estaturas_sin_nombre.csv\",header = F )\n",
        "datos2"
      ],
      "metadata": {
        "colab": {
          "base_uri": "https://localhost:8080/",
          "height": 222
        },
        "id": "uY9W9ASLrN9f",
        "outputId": "8e0e4364-2ce9-445c-fa06-c821cb41e842"
      },
      "execution_count": null,
      "outputs": [
        {
          "output_type": "stream",
          "name": "stderr",
          "text": [
            "Warning message in file(file, \"rt\"):\n",
            "“cannot open file 'estaturas_sin_nombre.csv': No such file or directory”\n"
          ]
        },
        {
          "output_type": "error",
          "ename": "ERROR",
          "evalue": "ignored",
          "traceback": [
            "Error in file(file, \"rt\"): cannot open the connection\nTraceback:\n",
            "1. read.csv(\"estaturas_sin_nombre.csv\", header = F)",
            "2. read.table(file = file, header = header, sep = sep, quote = quote, \n .     dec = dec, fill = fill, comment.char = comment.char, ...)",
            "3. file(file, \"rt\")"
          ]
        }
      ]
    },
    {
      "cell_type": "markdown",
      "metadata": {
        "id": "tLsQDyknJyoB"
      },
      "source": [
        "### Ejercicio 1.\n",
        "\n",
        "Según sus medidas de localización ¿qué forma tienen los siguientes datos que representan estaturas? ¿Cuál medida de tendencia central se puede usar para describirlas?\n",
        "\n",
        "> 1.62,1.63,1.63,1.63,1.64,1.64,1.65,1.65,1.67,1.67,1.67,1.68,1.68,1.68,1.68,1.69,1.7,1.71,1.71,1.71,1.72,1.73,1.76,1.77,1.77"
      ]
    },
    {
      "cell_type": "code",
      "metadata": {
        "id": "hGsdWac-KjJG"
      },
      "source": [
        "# Generar un vector con las estaturas\n",
        "\n",
        "# calcular las medidas de tendencia central \n",
        "\n",
        "# histograma\n"
      ],
      "execution_count": null,
      "outputs": []
    },
    {
      "cell_type": "markdown",
      "metadata": {
        "id": "iiyTa7oLM5k6"
      },
      "source": [
        "REspuesta: "
      ]
    },
    {
      "cell_type": "markdown",
      "metadata": {
        "id": "9Mn1AmUTO-B_"
      },
      "source": [
        "### Ejercicio 2. \n",
        "Los siguientes datos son la cantidad de arsénico en agua subterránea en algunos lugares\n",
        "\n",
        "> 1.3,8,1.5,9.5,100,580,110,1.8, 2.6, 2.8, 3.5,12, 14, 19, 23,120, 190, 240, 250,4.0,41,300,4.8,80,340\n",
        "\n",
        "¿Qué forma tiene la distribución?¿Qué medida recomendaría para el centro?"
      ]
    },
    {
      "cell_type": "code",
      "metadata": {
        "id": "bFhHIL6cP8nr"
      },
      "source": [
        "# genere un vector con el nombre arsenico\n",
        "\n",
        "\n",
        "# calcular las medidas de tendencia central\n",
        "\n",
        "\n",
        "\n",
        "\n",
        "\n",
        "\n"
      ],
      "execution_count": null,
      "outputs": []
    },
    {
      "cell_type": "markdown",
      "metadata": {
        "id": "n4ImpjLQQkGu"
      },
      "source": [
        "Respuesta: "
      ]
    },
    {
      "cell_type": "markdown",
      "metadata": {
        "id": "e6qQO1_sp6li"
      },
      "source": [
        "## Cuantiles\n",
        "\n",
        "La palabra cuantil viene de la palabra cantidad. En terminos simples, un cuantil es cuando se divide al conjunto de datos en subgrupos adyascentes de igual tamaño. Especificamente, los cuantiles reciben diferentes nombres en función de la cantidad de partes en que se divide a los datos. Por ejemplo cuando se divide a los datos en 100 partes iguales, los cuantiles se denominan **percentiles** y se identifican con la notación $P_j$ (con 0 < j < 1) y cuando la división es en 4 partes se llaman **Cuartiles** y se identifican con $Q_k$ (k=1,2,3)\n",
        "\n",
        "Hay varios métodos para el cálculo de los cuantiles (investigar el artículo que recomienda R).\n",
        "\n",
        "En R, el método dos consiste en:\n",
        "\n",
        "1. Ordenar datos\n",
        "2. Calcular n*j\n",
        "  * Si nj es no es entero, entonces, redondear nj al entero inmediato posterior $P_j=X_{nj+1}$.\n",
        "\n",
        "  * Si nj es entero, entonces, $P_j = \\frac {1}{2}(X_{nj}+X_{nj+1})$\n"
      ]
    },
    {
      "cell_type": "code",
      "metadata": {
        "id": "NCygjBumwqsf",
        "colab": {
          "base_uri": "https://localhost:8080/",
          "height": 34
        },
        "outputId": "44d86572-71de-4f9b-dddc-e3f9e4ec6b35"
      },
      "source": [
        "# ver los argumentos de quantile\n",
        "#help(quantile)\n",
        "# calcular el percentil 25% de las dos variables\n",
        "#quantile(faithful$eruptions,0.25)\n",
        "# calcular los percentiles 25% y 75%\n",
        "quantile(faithful$eruptions,c(0.25,0.75))   #se debe usar c()\n",
        "# calcular los percentiles 25%, 50% y 75%\n",
        "#quantile(faithful$eruptions)\n",
        "# percentil 99%\n",
        "#quantile(faithful$eruptions, .99)\n",
        "\n",
        "# \n"
      ],
      "execution_count": null,
      "outputs": [
        {
          "output_type": "display_data",
          "data": {
            "text/html": [
              "<style>\n",
              ".dl-inline {width: auto; margin:0; padding: 0}\n",
              ".dl-inline>dt, .dl-inline>dd {float: none; width: auto; display: inline-block}\n",
              ".dl-inline>dt::after {content: \":\\0020\"; padding-right: .5ex}\n",
              ".dl-inline>dt:not(:first-of-type) {padding-left: .5ex}\n",
              "</style><dl class=dl-inline><dt>25%</dt><dd>2.16275</dd><dt>75%</dt><dd>4.45425</dd></dl>\n"
            ],
            "text/markdown": "25%\n:   2.1627575%\n:   4.45425\n\n",
            "text/latex": "\\begin{description*}\n\\item[25\\textbackslash{}\\%] 2.16275\n\\item[75\\textbackslash{}\\%] 4.45425\n\\end{description*}\n",
            "text/plain": [
              "    25%     75% \n",
              "2.16275 4.45425 "
            ]
          },
          "metadata": {}
        }
      ]
    },
    {
      "cell_type": "markdown",
      "metadata": {
        "id": "NAnaNp76shlt"
      },
      "source": [
        "Interpretación: El 25% de las exhalaciones son menores o iguales que 2.16 min "
      ]
    },
    {
      "cell_type": "markdown",
      "source": [
        "# Vectores"
      ],
      "metadata": {
        "id": "qtQKiRZ6FSW3"
      }
    },
    {
      "cell_type": "code",
      "source": [
        "# vector del dataframe faithful\n",
        "#faithful$eruptions\n",
        "\n",
        "# definir un vector con edades\n",
        "edad = c(18,19,20,18,20)\n",
        "edad\n",
        "# sumar a las edades un año\n",
        "1 + edad\n",
        "# dividir entre 2 a la edad\n",
        "edad / 2\n",
        "\n",
        "# raíz cuadrada de las edades\n",
        "sqrt(edad)\n",
        "# elevar al cubo la edad\n",
        "edad^3\n",
        "# logaritmo base 10 de la edad\n",
        "log10(edad)\n",
        "# logaritmo natural de la edad\n",
        "log(edad)"
      ],
      "metadata": {
        "colab": {
          "base_uri": "https://localhost:8080/",
          "height": 139
        },
        "id": "UiUMEK3jFVUl",
        "outputId": "9291aad3-c9da-46ad-e929-0a5c8651408a"
      },
      "execution_count": null,
      "outputs": [
        {
          "output_type": "display_data",
          "data": {
            "text/html": [
              "<style>\n",
              ".list-inline {list-style: none; margin:0; padding: 0}\n",
              ".list-inline>li {display: inline-block}\n",
              ".list-inline>li:not(:last-child)::after {content: \"\\00b7\"; padding: 0 .5ex}\n",
              "</style>\n",
              "<ol class=list-inline><li>18</li><li>19</li><li>20</li><li>18</li><li>20</li></ol>\n"
            ],
            "text/markdown": "1. 18\n2. 19\n3. 20\n4. 18\n5. 20\n\n\n",
            "text/latex": "\\begin{enumerate*}\n\\item 18\n\\item 19\n\\item 20\n\\item 18\n\\item 20\n\\end{enumerate*}\n",
            "text/plain": [
              "[1] 18 19 20 18 20"
            ]
          },
          "metadata": {}
        },
        {
          "output_type": "display_data",
          "data": {
            "text/html": [
              "<style>\n",
              ".list-inline {list-style: none; margin:0; padding: 0}\n",
              ".list-inline>li {display: inline-block}\n",
              ".list-inline>li:not(:last-child)::after {content: \"\\00b7\"; padding: 0 .5ex}\n",
              "</style>\n",
              "<ol class=list-inline><li>19</li><li>20</li><li>21</li><li>19</li><li>21</li></ol>\n"
            ],
            "text/markdown": "1. 19\n2. 20\n3. 21\n4. 19\n5. 21\n\n\n",
            "text/latex": "\\begin{enumerate*}\n\\item 19\n\\item 20\n\\item 21\n\\item 19\n\\item 21\n\\end{enumerate*}\n",
            "text/plain": [
              "[1] 19 20 21 19 21"
            ]
          },
          "metadata": {}
        },
        {
          "output_type": "display_data",
          "data": {
            "text/html": [
              "<style>\n",
              ".list-inline {list-style: none; margin:0; padding: 0}\n",
              ".list-inline>li {display: inline-block}\n",
              ".list-inline>li:not(:last-child)::after {content: \"\\00b7\"; padding: 0 .5ex}\n",
              "</style>\n",
              "<ol class=list-inline><li>9</li><li>9.5</li><li>10</li><li>9</li><li>10</li></ol>\n"
            ],
            "text/markdown": "1. 9\n2. 9.5\n3. 10\n4. 9\n5. 10\n\n\n",
            "text/latex": "\\begin{enumerate*}\n\\item 9\n\\item 9.5\n\\item 10\n\\item 9\n\\item 10\n\\end{enumerate*}\n",
            "text/plain": [
              "[1]  9.0  9.5 10.0  9.0 10.0"
            ]
          },
          "metadata": {}
        },
        {
          "output_type": "display_data",
          "data": {
            "text/html": [
              "<style>\n",
              ".list-inline {list-style: none; margin:0; padding: 0}\n",
              ".list-inline>li {display: inline-block}\n",
              ".list-inline>li:not(:last-child)::after {content: \"\\00b7\"; padding: 0 .5ex}\n",
              "</style>\n",
              "<ol class=list-inline><li>4.24264068711928</li><li>4.35889894354067</li><li>4.47213595499958</li><li>4.24264068711928</li><li>4.47213595499958</li></ol>\n"
            ],
            "text/markdown": "1. 4.24264068711928\n2. 4.35889894354067\n3. 4.47213595499958\n4. 4.24264068711928\n5. 4.47213595499958\n\n\n",
            "text/latex": "\\begin{enumerate*}\n\\item 4.24264068711928\n\\item 4.35889894354067\n\\item 4.47213595499958\n\\item 4.24264068711928\n\\item 4.47213595499958\n\\end{enumerate*}\n",
            "text/plain": [
              "[1] 4.242641 4.358899 4.472136 4.242641 4.472136"
            ]
          },
          "metadata": {}
        },
        {
          "output_type": "display_data",
          "data": {
            "text/html": [
              "<style>\n",
              ".list-inline {list-style: none; margin:0; padding: 0}\n",
              ".list-inline>li {display: inline-block}\n",
              ".list-inline>li:not(:last-child)::after {content: \"\\00b7\"; padding: 0 .5ex}\n",
              "</style>\n",
              "<ol class=list-inline><li>5832</li><li>6859</li><li>8000</li><li>5832</li><li>8000</li></ol>\n"
            ],
            "text/markdown": "1. 5832\n2. 6859\n3. 8000\n4. 5832\n5. 8000\n\n\n",
            "text/latex": "\\begin{enumerate*}\n\\item 5832\n\\item 6859\n\\item 8000\n\\item 5832\n\\item 8000\n\\end{enumerate*}\n",
            "text/plain": [
              "[1] 5832 6859 8000 5832 8000"
            ]
          },
          "metadata": {}
        },
        {
          "output_type": "display_data",
          "data": {
            "text/html": [
              "<style>\n",
              ".list-inline {list-style: none; margin:0; padding: 0}\n",
              ".list-inline>li {display: inline-block}\n",
              ".list-inline>li:not(:last-child)::after {content: \"\\00b7\"; padding: 0 .5ex}\n",
              "</style>\n",
              "<ol class=list-inline><li>1.25527250510331</li><li>1.27875360095283</li><li>1.30102999566398</li><li>1.25527250510331</li><li>1.30102999566398</li></ol>\n"
            ],
            "text/markdown": "1. 1.25527250510331\n2. 1.27875360095283\n3. 1.30102999566398\n4. 1.25527250510331\n5. 1.30102999566398\n\n\n",
            "text/latex": "\\begin{enumerate*}\n\\item 1.25527250510331\n\\item 1.27875360095283\n\\item 1.30102999566398\n\\item 1.25527250510331\n\\item 1.30102999566398\n\\end{enumerate*}\n",
            "text/plain": [
              "[1] 1.255273 1.278754 1.301030 1.255273 1.301030"
            ]
          },
          "metadata": {}
        },
        {
          "output_type": "display_data",
          "data": {
            "text/html": [
              "<style>\n",
              ".list-inline {list-style: none; margin:0; padding: 0}\n",
              ".list-inline>li {display: inline-block}\n",
              ".list-inline>li:not(:last-child)::after {content: \"\\00b7\"; padding: 0 .5ex}\n",
              "</style>\n",
              "<ol class=list-inline><li>2.89037175789616</li><li>2.94443897916644</li><li>2.99573227355399</li><li>2.89037175789616</li><li>2.99573227355399</li></ol>\n"
            ],
            "text/markdown": "1. 2.89037175789616\n2. 2.94443897916644\n3. 2.99573227355399\n4. 2.89037175789616\n5. 2.99573227355399\n\n\n",
            "text/latex": "\\begin{enumerate*}\n\\item 2.89037175789616\n\\item 2.94443897916644\n\\item 2.99573227355399\n\\item 2.89037175789616\n\\item 2.99573227355399\n\\end{enumerate*}\n",
            "text/plain": [
              "[1] 2.890372 2.944439 2.995732 2.890372 2.995732"
            ]
          },
          "metadata": {}
        }
      ]
    },
    {
      "cell_type": "markdown",
      "metadata": {
        "id": "4k8MRdEBXez3"
      },
      "source": [
        "Existen algunas funciones en el sistema base y en paquetes que se istalan para facilitar los cálculos de las medida de localización."
      ]
    },
    {
      "cell_type": "code",
      "source": [
        "# percentiles como se calculan en clase\n",
        "quantile(faithful$eruptions,type = 2)"
      ],
      "metadata": {
        "colab": {
          "base_uri": "https://localhost:8080/",
          "height": 34
        },
        "id": "PP9KyN-FL_vr",
        "outputId": "4e9f6cf9-cfd8-402f-bcb9-0844100962a3"
      },
      "execution_count": null,
      "outputs": [
        {
          "output_type": "display_data",
          "data": {
            "text/html": [
              "<style>\n",
              ".dl-inline {width: auto; margin:0; padding: 0}\n",
              ".dl-inline>dt, .dl-inline>dd {float: none; width: auto; display: inline-block}\n",
              ".dl-inline>dt::after {content: \":\\0020\"; padding-right: .5ex}\n",
              ".dl-inline>dt:not(:first-of-type) {padding-left: .5ex}\n",
              "</style><dl class=dl-inline><dt>0%</dt><dd>1.6</dd><dt>25%</dt><dd>2.1585</dd><dt>50%</dt><dd>4</dd><dt>75%</dt><dd>4.4585</dd><dt>100%</dt><dd>5.1</dd></dl>\n"
            ],
            "text/markdown": "0%\n:   1.625%\n:   2.158550%\n:   475%\n:   4.4585100%\n:   5.1\n\n",
            "text/latex": "\\begin{description*}\n\\item[0\\textbackslash{}\\%] 1.6\n\\item[25\\textbackslash{}\\%] 2.1585\n\\item[50\\textbackslash{}\\%] 4\n\\item[75\\textbackslash{}\\%] 4.4585\n\\item[100\\textbackslash{}\\%] 5.1\n\\end{description*}\n",
            "text/plain": [
              "    0%    25%    50%    75%   100% \n",
              "1.6000 2.1585 4.0000 4.4585 5.1000 "
            ]
          },
          "metadata": {}
        }
      ]
    },
    {
      "cell_type": "code",
      "metadata": {
        "id": "aRHsNl6qWEqP",
        "colab": {
          "base_uri": "https://localhost:8080/",
          "height": 156
        },
        "outputId": "a83de14d-c20e-4cfd-b76a-fa3769d4a0c7"
      },
      "source": [
        "# Los 5 números de Tukey min,P.25,P.50,P.75,max\n",
        "fivenum(faithful$eruptions)\n",
        "# Resumen\n",
        "#summary(faithful$eruptions)\n",
        "# ya solo restaría agregar los percentiles\n",
        "\n",
        "# ¿qué ocurre si usamos summary con el argumento faithful\n",
        "summary(faithful)"
      ],
      "execution_count": null,
      "outputs": [
        {
          "output_type": "display_data",
          "data": {
            "text/html": [
              "<style>\n",
              ".list-inline {list-style: none; margin:0; padding: 0}\n",
              ".list-inline>li {display: inline-block}\n",
              ".list-inline>li:not(:last-child)::after {content: \"\\00b7\"; padding: 0 .5ex}\n",
              "</style>\n",
              "<ol class=list-inline><li>1.6</li><li>2.1585</li><li>4</li><li>4.4585</li><li>5.1</li></ol>\n"
            ],
            "text/markdown": "1. 1.6\n2. 2.1585\n3. 4\n4. 4.4585\n5. 5.1\n\n\n",
            "text/latex": "\\begin{enumerate*}\n\\item 1.6\n\\item 2.1585\n\\item 4\n\\item 4.4585\n\\item 5.1\n\\end{enumerate*}\n",
            "text/plain": [
              "[1] 1.6000 2.1585 4.0000 4.4585 5.1000"
            ]
          },
          "metadata": {}
        },
        {
          "output_type": "display_data",
          "data": {
            "text/plain": [
              "   eruptions        waiting    \n",
              " Min.   :1.600   Min.   :43.0  \n",
              " 1st Qu.:2.163   1st Qu.:58.0  \n",
              " Median :4.000   Median :76.0  \n",
              " Mean   :3.488   Mean   :70.9  \n",
              " 3rd Qu.:4.454   3rd Qu.:82.0  \n",
              " Max.   :5.100   Max.   :96.0  "
            ]
          },
          "metadata": {}
        }
      ]
    },
    {
      "cell_type": "code",
      "source": [
        "# conjunto de datos de las flores iris\n",
        "#iris\n",
        "summary(iris)"
      ],
      "metadata": {
        "colab": {
          "base_uri": "https://localhost:8080/",
          "height": 260
        },
        "id": "kcqFML95KzPK",
        "outputId": "82aa0216-0070-4223-a74a-95d47a3dd9b4"
      },
      "execution_count": null,
      "outputs": [
        {
          "output_type": "display_data",
          "data": {
            "text/plain": [
              "  Sepal.Length    Sepal.Width     Petal.Length    Petal.Width   \n",
              " Min.   :4.300   Min.   :2.000   Min.   :1.000   Min.   :0.100  \n",
              " 1st Qu.:5.100   1st Qu.:2.800   1st Qu.:1.600   1st Qu.:0.300  \n",
              " Median :5.800   Median :3.000   Median :4.350   Median :1.300  \n",
              " Mean   :5.843   Mean   :3.057   Mean   :3.758   Mean   :1.199  \n",
              " 3rd Qu.:6.400   3rd Qu.:3.300   3rd Qu.:5.100   3rd Qu.:1.800  \n",
              " Max.   :7.900   Max.   :4.400   Max.   :6.900   Max.   :2.500  \n",
              "       Species  \n",
              " setosa    :50  \n",
              " versicolor:50  \n",
              " virginica :50  \n",
              "                \n",
              "                \n",
              "                "
            ]
          },
          "metadata": {}
        }
      ]
    },
    {
      "cell_type": "markdown",
      "metadata": {
        "id": "LUKptmM3c-Qn"
      },
      "source": [
        "Al percentil 25% se le llama primer cuartil Q1                                                 \n",
        "\n",
        "La mediana, el percentil 50%, es el Q2\n",
        "\n",
        "El percentil 75% es el Q3\n"
      ]
    },
    {
      "cell_type": "code",
      "metadata": {
        "id": "BeRyc4TFY3dA",
        "colab": {
          "base_uri": "https://localhost:8080/",
          "height": 141
        },
        "outputId": "54f46c7a-7366-4f70-b889-1b7ad3e6b412"
      },
      "source": [
        "# escriba el resúmen en un documento csv de excel\n",
        "summary(datos)\n",
        "# para guardar la información enuin documento csv\n",
        "# write.csv(objetoaguardar,\"nombrearchivo.csv\")\n",
        "write.csv(summary(datos),\"resumen.csv\")"
      ],
      "execution_count": null,
      "outputs": [
        {
          "output_type": "display_data",
          "data": {
            "text/plain": [
              "    Estatura    \n",
              " Min.   :1.610  \n",
              " 1st Qu.:1.680  \n",
              " Median :1.705  \n",
              " Mean   :1.705  \n",
              " 3rd Qu.:1.730  \n",
              " Max.   :1.790  "
            ]
          },
          "metadata": {}
        }
      ]
    },
    {
      "cell_type": "code",
      "source": [
        "promedio = mean(datos$Estatura)"
      ],
      "metadata": {
        "id": "lnEJg1KcYyFV"
      },
      "execution_count": null,
      "outputs": []
    },
    {
      "cell_type": "code",
      "source": [
        "promedio+1\n"
      ],
      "metadata": {
        "colab": {
          "base_uri": "https://localhost:8080/",
          "height": 34
        },
        "id": "0O3qVj8TZkxm",
        "outputId": "43b0c89f-2122-41e8-8e0e-cf1c75f81d6f"
      },
      "execution_count": null,
      "outputs": [
        {
          "output_type": "display_data",
          "data": {
            "text/html": [
              "2.705"
            ],
            "text/markdown": "2.705",
            "text/latex": "2.705",
            "text/plain": [
              "[1] 2.705"
            ]
          },
          "metadata": {}
        }
      ]
    },
    {
      "cell_type": "markdown",
      "source": [
        "## 2. Medidas de variación\n",
        "\n",
        "1. Varianza $S^2$      \n",
        "$$\\frac {\\sum_{i=1}^n (x_i - \\bar x)^2}{n}      $$\n"
      ],
      "metadata": {
        "id": "e_5pTwqPZuoy"
      }
    },
    {
      "cell_type": "code",
      "source": [
        "# amplitud o rango  (Máximo-Mínimo)\n",
        "max(datos$Estatura) - min(datos$Estatura)\n",
        "# Varianza\n",
        "var(datos$Estatura)\n",
        "\n",
        "# Desviación estándar\n",
        "sd(datos$Estatura)\n",
        "mean(datos$Estatura)\n"
      ],
      "metadata": {
        "colab": {
          "base_uri": "https://localhost:8080/",
          "height": 86
        },
        "id": "LmPWqoeZZzqo",
        "outputId": "be92add6-db42-400e-c4c4-da66cbf7c804"
      },
      "execution_count": null,
      "outputs": [
        {
          "output_type": "display_data",
          "data": {
            "text/html": [
              "0.18"
            ],
            "text/markdown": "0.18",
            "text/latex": "0.18",
            "text/plain": [
              "[1] 0.18"
            ]
          },
          "metadata": {}
        },
        {
          "output_type": "display_data",
          "data": {
            "text/html": [
              "0.00188793103448276"
            ],
            "text/markdown": "0.00188793103448276",
            "text/latex": "0.00188793103448276",
            "text/plain": [
              "[1] 0.001887931"
            ]
          },
          "metadata": {}
        },
        {
          "output_type": "display_data",
          "data": {
            "text/html": [
              "0.043450328358745"
            ],
            "text/markdown": "0.043450328358745",
            "text/latex": "0.043450328358745",
            "text/plain": [
              "[1] 0.04345033"
            ]
          },
          "metadata": {}
        },
        {
          "output_type": "display_data",
          "data": {
            "text/html": [
              "1.705"
            ],
            "text/markdown": "1.705",
            "text/latex": "1.705",
            "text/plain": [
              "[1] 1.705"
            ]
          },
          "metadata": {}
        }
      ]
    },
    {
      "cell_type": "markdown",
      "source": [
        "Las estaturas de las personas se alejan de 1.705m aproximadamente 0.043 m"
      ],
      "metadata": {
        "id": "AQVg-ncmedon"
      }
    },
    {
      "cell_type": "code",
      "source": [
        "minutos = c(24,27,8,25,26,1,19,11,23,21,27,23,24,24,25,25,20,30,20,25,19,24,20,28,29)\n",
        "minutos"
      ],
      "metadata": {
        "colab": {
          "base_uri": "https://localhost:8080/",
          "height": 34
        },
        "id": "tnpNlBhWsHBA",
        "outputId": "0f63d4b6-6634-4aef-8fcf-d7cab35be09d"
      },
      "execution_count": null,
      "outputs": [
        {
          "output_type": "display_data",
          "data": {
            "text/html": [
              "<style>\n",
              ".list-inline {list-style: none; margin:0; padding: 0}\n",
              ".list-inline>li {display: inline-block}\n",
              ".list-inline>li:not(:last-child)::after {content: \"\\00b7\"; padding: 0 .5ex}\n",
              "</style>\n",
              "<ol class=list-inline><li>24</li><li>27</li><li>8</li><li>25</li><li>26</li><li>1</li><li>19</li><li>11</li><li>23</li><li>21</li><li>27</li><li>23</li><li>24</li><li>24</li><li>25</li><li>25</li><li>20</li><li>30</li><li>20</li><li>25</li><li>19</li><li>24</li><li>20</li><li>28</li><li>29</li></ol>\n"
            ],
            "text/markdown": "1. 24\n2. 27\n3. 8\n4. 25\n5. 26\n6. 1\n7. 19\n8. 11\n9. 23\n10. 21\n11. 27\n12. 23\n13. 24\n14. 24\n15. 25\n16. 25\n17. 20\n18. 30\n19. 20\n20. 25\n21. 19\n22. 24\n23. 20\n24. 28\n25. 29\n\n\n",
            "text/latex": "\\begin{enumerate*}\n\\item 24\n\\item 27\n\\item 8\n\\item 25\n\\item 26\n\\item 1\n\\item 19\n\\item 11\n\\item 23\n\\item 21\n\\item 27\n\\item 23\n\\item 24\n\\item 24\n\\item 25\n\\item 25\n\\item 20\n\\item 30\n\\item 20\n\\item 25\n\\item 19\n\\item 24\n\\item 20\n\\item 28\n\\item 29\n\\end{enumerate*}\n",
            "text/plain": [
              " [1] 24 27  8 25 26  1 19 11 23 21 27 23 24 24 25 25 20 30 20 25 19 24 20 28 29"
            ]
          },
          "metadata": {}
        }
      ]
    },
    {
      "cell_type": "code",
      "source": [
        "x = c(271, 236, 294, 252, 254, 263, 266, 220, 262, 278, 288,\n",
        "262, 237, 247, 282, 224, 263, 267, 254 271 278 263\n",
        "262 288 247 252 264 263 247 225 281 279 238\n",
        "252 242 248 263 255 294 268 255 272 271 291\n",
        "263 242 288 252 226 263 269 227 273 281 267\n",
        "263 244 249 252 256 263 252 261 245 252 294\n",
        "288 245 251 269 256 264 252 232 275 284 252\n",
        "263 274 252 252 256 254 269 234 285 275 263\n",
        "246 263 294 252 231 265 269 235 275 288 294\n",
        "263 247 252 269 261 266 269 236 276 248 298)"
      ],
      "metadata": {
        "id": "5EaSLwYysbPg"
      },
      "execution_count": null,
      "outputs": []
    },
    {
      "cell_type": "code",
      "source": [
        "datos = c(1,2,3,4,5,6)\n",
        "datos"
      ],
      "metadata": {
        "colab": {
          "base_uri": "https://localhost:8080/",
          "height": 34
        },
        "id": "406j0yR5uE9R",
        "outputId": "4b7fd91e-9b5b-4dec-ecbb-e813fdf0d17d"
      },
      "execution_count": null,
      "outputs": [
        {
          "output_type": "display_data",
          "data": {
            "text/html": [
              "<style>\n",
              ".list-inline {list-style: none; margin:0; padding: 0}\n",
              ".list-inline>li {display: inline-block}\n",
              ".list-inline>li:not(:last-child)::after {content: \"\\00b7\"; padding: 0 .5ex}\n",
              "</style>\n",
              "<ol class=list-inline><li>1</li><li>2</li><li>3</li><li>4</li><li>5</li><li>6</li></ol>\n"
            ],
            "text/markdown": "1. 1\n2. 2\n3. 3\n4. 4\n5. 5\n6. 6\n\n\n",
            "text/latex": "\\begin{enumerate*}\n\\item 1\n\\item 2\n\\item 3\n\\item 4\n\\item 5\n\\item 6\n\\end{enumerate*}\n",
            "text/plain": [
              "[1] 1 2 3 4 5 6"
            ]
          },
          "metadata": {}
        }
      ]
    },
    {
      "cell_type": "markdown",
      "source": [
        "# 3. Valores extremos\n"
      ],
      "metadata": {
        "id": "VPxIv1bou6ex"
      }
    },
    {
      "cell_type": "code",
      "source": [
        "# suponga las siguientes alturas de árboles\n",
        "altura = c(20, 25, 23, 24, 23.5, 24, 23.7, 24, 23.8, 30)\n",
        "altura\n",
        "\n",
        "mean(altura)\n",
        "median(altura)"
      ],
      "metadata": {
        "colab": {
          "base_uri": "https://localhost:8080/",
          "height": 69
        },
        "id": "dJzBWLq3u-95",
        "outputId": "e5677d3d-8a3e-4a99-b3cc-0ea013b88a66"
      },
      "execution_count": null,
      "outputs": [
        {
          "output_type": "display_data",
          "data": {
            "text/html": [
              "<style>\n",
              ".list-inline {list-style: none; margin:0; padding: 0}\n",
              ".list-inline>li {display: inline-block}\n",
              ".list-inline>li:not(:last-child)::after {content: \"\\00b7\"; padding: 0 .5ex}\n",
              "</style>\n",
              "<ol class=list-inline><li>20</li><li>25</li><li>23</li><li>24</li><li>23.5</li><li>24</li><li>23.7</li><li>24</li><li>23.8</li><li>30</li></ol>\n"
            ],
            "text/markdown": "1. 20\n2. 25\n3. 23\n4. 24\n5. 23.5\n6. 24\n7. 23.7\n8. 24\n9. 23.8\n10. 30\n\n\n",
            "text/latex": "\\begin{enumerate*}\n\\item 20\n\\item 25\n\\item 23\n\\item 24\n\\item 23.5\n\\item 24\n\\item 23.7\n\\item 24\n\\item 23.8\n\\item 30\n\\end{enumerate*}\n",
            "text/plain": [
              " [1] 20.0 25.0 23.0 24.0 23.5 24.0 23.7 24.0 23.8 30.0"
            ]
          },
          "metadata": {}
        },
        {
          "output_type": "display_data",
          "data": {
            "text/html": [
              "24.1"
            ],
            "text/markdown": "24.1",
            "text/latex": "24.1",
            "text/plain": [
              "[1] 24.1"
            ]
          },
          "metadata": {}
        },
        {
          "output_type": "display_data",
          "data": {
            "text/html": [
              "23.9"
            ],
            "text/markdown": "23.9",
            "text/latex": "23.9",
            "text/plain": [
              "[1] 23.9"
            ]
          },
          "metadata": {}
        }
      ]
    },
    {
      "cell_type": "code",
      "source": [
        "# boxplot o gráfico de caja y bigotes\n",
        "boxplot(altura, horizontal = TRUE)\n"
      ],
      "metadata": {
        "colab": {
          "base_uri": "https://localhost:8080/",
          "height": 437
        },
        "id": "QYBtcHK2wXDD",
        "outputId": "70cb38bb-133f-425b-c8c9-48dd17ccfa0d"
      },
      "execution_count": null,
      "outputs": [
        {
          "output_type": "display_data",
          "data": {
            "text/plain": [
              "plot without title"
            ],
            "image/png": "[encoded data removed]"
          },
          "metadata": {
            "image/png": {
              "width": 420,
              "height": 420
            }
          }
        }
      ]
    },
    {
      "cell_type": "code",
      "source": [
        "boxplot(faithful$eruptions)"
      ],
      "metadata": {
        "colab": {
          "base_uri": "https://localhost:8080/",
          "height": 437
        },
        "id": "ciWZKjUIxktX",
        "outputId": "15aeb2fd-6066-4a39-8261-800aebc8b25e"
      },
      "execution_count": null,
      "outputs": [
        {
          "output_type": "display_data",
          "data": {
            "text/plain": [
              "plot without title"
            ],
            "image/png": "[encoded data removed]"
          },
          "metadata": {
            "image/png": {
              "width": 420,
              "height": 420
            }
          }
        }
      ]
    }
  ]
}